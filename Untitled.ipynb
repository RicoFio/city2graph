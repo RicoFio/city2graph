{
 "cells": [
  {
   "cell_type": "code",
   "execution_count": 1,
   "id": "1cd12b5f-5c97-4f30-a69c-46fd099ab7db",
   "metadata": {},
   "outputs": [
    {
     "name": "stdout",
     "output_type": "stream",
     "text": [
      "city2graph imported from: ../city2graph\n",
      "city2graph version: dev\n"
     ]
    }
   ],
   "source": [
    "import os\n",
    "import sys\n",
    "from pathlib import Path\n",
    "import numpy as np\n",
    "import pandas as pd\n",
    "import geopandas as gpd\n",
    "import matplotlib.pyplot as plt\n",
    "from shapely.geometry import Point, LineString, Polygon\n",
    "import networkx as nx\n",
    "\n",
    "# Configure matplotlib for better visualizations\n",
    "plt.rcParams['figure.figsize'] = (12, 10)\n",
    "plt.rcParams['figure.dpi'] = 100\n",
    "plt.style.use('ggplot')\n",
    "\n",
    "# Import city2graph package\n",
    "city2graph_path = Path(os.path.expanduser(\"../city2graph\"))\n",
    "if city2graph_path.exists():\n",
    "    sys.path.insert(0, str(city2graph_path))\n",
    "    import city2graph\n",
    "    print(f\"city2graph imported from: {city2graph_path}\")\n",
    "    print(f\"city2graph version: {city2graph.__version__ if hasattr(city2graph, '__version__') else 'dev'}\")"
   ]
  },
  {
   "cell_type": "code",
   "execution_count": 1,
   "id": "239eb439-c056-43a7-baf9-c567ff8d75ab",
   "metadata": {},
   "outputs": [
    {
     "name": "stdout",
     "output_type": "stream",
     "text": [
      "Obtaining file:///home/jovyan/city2graph\n",
      "\u001b[31mERROR: Exception:\n",
      "Traceback (most recent call last):\n",
      "  File \"/opt/conda/lib/python3.11/site-packages/pip/_internal/cli/base_command.py\", line 180, in exc_logging_wrapper\n",
      "    status = run_func(*args)\n",
      "             ^^^^^^^^^^^^^^^\n",
      "  File \"/opt/conda/lib/python3.11/site-packages/pip/_internal/cli/req_command.py\", line 245, in wrapper\n",
      "    return func(self, options, args)\n",
      "           ^^^^^^^^^^^^^^^^^^^^^^^^^\n",
      "  File \"/opt/conda/lib/python3.11/site-packages/pip/_internal/commands/install.py\", line 377, in run\n",
      "    requirement_set = resolver.resolve(\n",
      "                      ^^^^^^^^^^^^^^^^^\n",
      "  File \"/opt/conda/lib/python3.11/site-packages/pip/_internal/resolution/resolvelib/resolver.py\", line 76, in resolve\n",
      "    collected = self.factory.collect_root_requirements(root_reqs)\n",
      "                ^^^^^^^^^^^^^^^^^^^^^^^^^^^^^^^^^^^^^^^^^^^^^^^^^\n",
      "  File \"/opt/conda/lib/python3.11/site-packages/pip/_internal/resolution/resolvelib/factory.py\", line 513, in collect_root_requirements\n",
      "    reqs = list(\n",
      "           ^^^^^\n",
      "  File \"/opt/conda/lib/python3.11/site-packages/pip/_internal/resolution/resolvelib/factory.py\", line 474, in _make_requirements_from_install_req\n",
      "    cand = self._make_candidate_from_link(\n",
      "           ^^^^^^^^^^^^^^^^^^^^^^^^^^^^^^^\n",
      "  File \"/opt/conda/lib/python3.11/site-packages/pip/_internal/resolution/resolvelib/factory.py\", line 190, in _make_candidate_from_link\n",
      "    self._editable_candidate_cache[link] = EditableCandidate(\n",
      "                                           ^^^^^^^^^^^^^^^^^^\n",
      "  File \"/opt/conda/lib/python3.11/site-packages/pip/_internal/resolution/resolvelib/candidates.py\", line 318, in __init__\n",
      "    super().__init__(\n",
      "  File \"/opt/conda/lib/python3.11/site-packages/pip/_internal/resolution/resolvelib/candidates.py\", line 156, in __init__\n",
      "    self.dist = self._prepare()\n",
      "                ^^^^^^^^^^^^^^^\n",
      "  File \"/opt/conda/lib/python3.11/site-packages/pip/_internal/resolution/resolvelib/candidates.py\", line 225, in _prepare\n",
      "    dist = self._prepare_distribution()\n",
      "           ^^^^^^^^^^^^^^^^^^^^^^^^^^^^\n",
      "  File \"/opt/conda/lib/python3.11/site-packages/pip/_internal/resolution/resolvelib/candidates.py\", line 328, in _prepare_distribution\n",
      "    return self._factory.preparer.prepare_editable_requirement(self._ireq)\n",
      "           ^^^^^^^^^^^^^^^^^^^^^^^^^^^^^^^^^^^^^^^^^^^^^^^^^^^^^^^^^^^^^^^\n",
      "  File \"/opt/conda/lib/python3.11/site-packages/pip/_internal/operations/prepare.py\", line 696, in prepare_editable_requirement\n",
      "    dist = _get_prepared_distribution(\n",
      "           ^^^^^^^^^^^^^^^^^^^^^^^^^^^\n",
      "  File \"/opt/conda/lib/python3.11/site-packages/pip/_internal/operations/prepare.py\", line 71, in _get_prepared_distribution\n",
      "    abstract_dist.prepare_distribution_metadata(\n",
      "  File \"/opt/conda/lib/python3.11/site-packages/pip/_internal/distributions/sdist.py\", line 37, in prepare_distribution_metadata\n",
      "    self.req.load_pyproject_toml()\n",
      "  File \"/opt/conda/lib/python3.11/site-packages/pip/_internal/req/req_install.py\", line 506, in load_pyproject_toml\n",
      "    pyproject_toml_data = load_pyproject_toml(\n",
      "                          ^^^^^^^^^^^^^^^^^^^^\n",
      "  File \"/opt/conda/lib/python3.11/site-packages/pip/_internal/pyproject.py\", line 64, in load_pyproject_toml\n",
      "    pp_toml = tomli.loads(f.read())\n",
      "              ^^^^^^^^^^^^^^^^^^^^^\n",
      "  File \"/opt/conda/lib/python3.11/site-packages/pip/_vendor/tomli/_parser.py\", line 102, in loads\n",
      "    pos = key_value_rule(src, pos, out, header, parse_float)\n",
      "          ^^^^^^^^^^^^^^^^^^^^^^^^^^^^^^^^^^^^^^^^^^^^^^^^^^\n",
      "  File \"/opt/conda/lib/python3.11/site-packages/pip/_vendor/tomli/_parser.py\", line 326, in key_value_rule\n",
      "    pos, key, value = parse_key_value_pair(src, pos, parse_float)\n",
      "                      ^^^^^^^^^^^^^^^^^^^^^^^^^^^^^^^^^^^^^^^^^^^\n",
      "  File \"/opt/conda/lib/python3.11/site-packages/pip/_vendor/tomli/_parser.py\", line 369, in parse_key_value_pair\n",
      "    pos, value = parse_value(src, pos, parse_float)\n",
      "                 ^^^^^^^^^^^^^^^^^^^^^^^^^^^^^^^^^^\n",
      "  File \"/opt/conda/lib/python3.11/site-packages/pip/_vendor/tomli/_parser.py\", line 616, in parse_value\n",
      "    return parse_array(src, pos, parse_float)\n",
      "           ^^^^^^^^^^^^^^^^^^^^^^^^^^^^^^^^^^\n",
      "  File \"/opt/conda/lib/python3.11/site-packages/pip/_vendor/tomli/_parser.py\", line 428, in parse_array\n",
      "    raise suffixed_err(src, pos, \"Unclosed array\")\n",
      "pip._vendor.tomli.TOMLDecodeError: Unclosed array (at line 34, column 5)\u001b[0m\u001b[31m\n",
      "\u001b[0mNote: you may need to restart the kernel to use updated packages.\n"
     ]
    }
   ],
   "source": [
    "pip install -e ."
   ]
  },
  {
   "cell_type": "code",
   "execution_count": null,
   "id": "3b088c44-d698-4f37-b25d-e45fc93e0837",
   "metadata": {},
   "outputs": [],
   "source": []
  }
 ],
 "metadata": {
  "kernelspec": {
   "display_name": "Python 3 (ipykernel)",
   "language": "python",
   "name": "python3"
  },
  "language_info": {
   "codemirror_mode": {
    "name": "ipython",
    "version": 3
   },
   "file_extension": ".py",
   "mimetype": "text/x-python",
   "name": "python",
   "nbconvert_exporter": "python",
   "pygments_lexer": "ipython3",
   "version": "3.11.6"
  }
 },
 "nbformat": 4,
 "nbformat_minor": 5
}
